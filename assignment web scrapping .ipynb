{
 "cells": [
  {
   "cell_type": "code",
   "execution_count": 2,
   "id": "adf97863",
   "metadata": {},
   "outputs": [],
   "source": [
    "import requests as rs# importing requests"
   ]
  },
  {
   "cell_type": "code",
   "execution_count": 3,
   "id": "3b60378a",
   "metadata": {},
   "outputs": [],
   "source": [
    "from bs4 import BeautifulSoup as bs #importing BeautifulSoup"
   ]
  },
  {
   "cell_type": "code",
   "execution_count": 4,
   "id": "684ea6e7",
   "metadata": {},
   "outputs": [],
   "source": [
    "import pandas as pd# importing pandas library"
   ]
  },
  {
   "cell_type": "code",
   "execution_count": 42,
   "id": "e6b8fa2f",
   "metadata": {},
   "outputs": [],
   "source": [
    "result=[]# creating a empty to list to store the item of each page\n",
    "for i in range(1,3):\n",
    "    url=f\"http://quotes.toscrape.com/page/{i}/\"  # using f string formatting accessing the different pages of the website\n",
    "    response=rs.get(url)  # using get method we are taking the url of the website\n",
    "    response=response.content  # getting the content of the page using content method\n",
    "    soup=bs(response,'html.parser')  # with the help of beautiful soup we are we are displaying the data as it is in the website\n",
    "    container=soup.find('div',class_='container')  #finding the div with class=container\n",
    "    contents=container.find_all('div',class_='quote')  # finding all the div with class quote and storing in the contents variable\n",
    "\n",
    "    \n",
    "    for content in contents:  # iterating the elements of the contents\n",
    "        quotes=content.find(class_='text')\n",
    "        quotes=quotes.text\n",
    "        author=content.find(class_='author')\n",
    "        name=author.text\n",
    "        tag=content.find('a',class_='tag')\n",
    "        tag=tag.text         \n",
    "        result.append([quotes,name,tag])\n",
    "\n",
    "           "
   ]
  },
  {
   "cell_type": "code",
   "execution_count": 43,
   "id": "b8ff55c6",
   "metadata": {},
   "outputs": [],
   "source": [
    "data=pd.DataFrame(result,columns=[\"Quotes\",\"Name of the Author\",\"Name of the tag\"])"
   ]
  },
  {
   "cell_type": "code",
   "execution_count": 44,
   "id": "b3185f36",
   "metadata": {},
   "outputs": [],
   "source": [
    "data.to_csv('quotes to scrape.csv')"
   ]
  },
  {
   "cell_type": "code",
   "execution_count": null,
   "id": "280bdde6",
   "metadata": {},
   "outputs": [],
   "source": []
  },
  {
   "cell_type": "code",
   "execution_count": null,
   "id": "295ab767",
   "metadata": {},
   "outputs": [],
   "source": []
  }
 ],
 "metadata": {
  "kernelspec": {
   "display_name": "Python 3 (ipykernel)",
   "language": "python",
   "name": "python3"
  },
  "language_info": {
   "codemirror_mode": {
    "name": "ipython",
    "version": 3
   },
   "file_extension": ".py",
   "mimetype": "text/x-python",
   "name": "python",
   "nbconvert_exporter": "python",
   "pygments_lexer": "ipython3",
   "version": "3.11.3"
  }
 },
 "nbformat": 4,
 "nbformat_minor": 5
}
